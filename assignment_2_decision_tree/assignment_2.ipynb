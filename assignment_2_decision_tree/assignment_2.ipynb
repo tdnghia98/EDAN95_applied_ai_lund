{
 "metadata": {
  "language_info": {
   "codemirror_mode": {
    "name": "ipython",
    "version": 3
   },
   "file_extension": ".py",
   "mimetype": "text/x-python",
   "name": "python",
   "nbconvert_exporter": "python",
   "pygments_lexer": "ipython3",
   "version": "3.7.7-final"
  },
  "orig_nbformat": 2,
  "kernelspec": {
   "name": "python3",
   "display_name": "Python 3.7.7 64-bit ('ai': conda)",
   "metadata": {
    "interpreter": {
     "hash": "e2069eaf691aec1139de688a90f5cc7969a86f74865e4cd373152353c2de48e5"
    }
   }
  }
 },
 "nbformat": 4,
 "nbformat_minor": 2,
 "cells": [
  {
   "source": [
    "# Assignment 2: Decision Tree\n",
    "\n"
   ],
   "cell_type": "markdown",
   "metadata": {}
  },
  {
   "cell_type": "code",
   "execution_count": null,
   "metadata": {},
   "outputs": [],
   "source": []
  },
  {
   "source": [
    "We have implemented our own ID3 classifier. It's time to use it on the digit dataset"
   ],
   "cell_type": "markdown",
   "metadata": {}
  },
  {
   "cell_type": "code",
   "execution_count": 1,
   "metadata": {},
   "outputs": [],
   "source": [
    "from sklearn import datasets, metrics\n",
    "import matplotlib.pyplot as plt"
   ]
  },
  {
   "cell_type": "code",
   "execution_count": 2,
   "metadata": {},
   "outputs": [
    {
     "output_type": "execute_result",
     "data": {
      "text/plain": [
       "array([0, 1, 2, 3, 4, 5, 6, 7, 8, 9])"
      ]
     },
     "metadata": {},
     "execution_count": 2
    }
   ],
   "source": [
    "digits = datasets.load_digits()\n",
    "digits.data\n",
    "digits.target_names"
   ]
  },
  {
   "source": [
    "Prepare the data for training"
   ],
   "cell_type": "markdown",
   "metadata": {}
  },
  {
   "cell_type": "code",
   "execution_count": 3,
   "metadata": {},
   "outputs": [
    {
     "output_type": "execute_result",
     "data": {
      "text/plain": [
       "array([[ 0.,  0.,  2., ...,  0.,  0.,  0.],\n",
       "       [ 0.,  2., 13., ..., 16.,  9.,  0.],\n",
       "       [ 0.,  0.,  2., ...,  4.,  0.,  0.],\n",
       "       ...,\n",
       "       [ 0.,  0., 15., ...,  0.,  0.,  0.],\n",
       "       [ 0.,  0.,  0., ..., 15., 10.,  0.],\n",
       "       [ 0.,  0.,  8., ..., 15.,  1.,  0.]])"
      ]
     },
     "metadata": {},
     "execution_count": 3
    }
   ],
   "source": [
    "import ID3\n",
    "from sklearn.model_selection import train_test_split\n",
    "\n",
    "X_train, X_test, y_train, y_test = train_test_split(digits.data, digits.target, test_size = 0.3, random_state= 20)\n",
    "X_train.data.shape\n",
    "X_train"
   ]
  },
  {
   "source": [
    "Let's fit the data to our ID3 classifier to create a model and then plot it."
   ],
   "cell_type": "markdown",
   "metadata": {}
  },
  {
   "cell_type": "code",
   "execution_count": 4,
   "metadata": {},
   "outputs": [],
   "source": [
    "# import ToyData as td\n",
    "# attributes, classes, data, target, data2, target2 = td.ToyData().get_data()\n",
    "\n",
    "# id3_classifier_toy = ID3.ID3DecisionTreeClassifier()\n",
    "\n",
    "# myTree = id3_classifier_toy.fit(data, target, attributes, classes, remaining_attributes = attributes)\n",
    "# predictions_toy = id3_classifier_toy.predict(data2, myTree)\n"
   ]
  },
  {
   "cell_type": "code",
   "execution_count": 5,
   "metadata": {
    "tags": []
   },
   "outputs": [],
   "source": [
    "id3_classifier = ID3.ID3DecisionTreeClassifier()\n",
    "\n",
    "attributes = dict()\n",
    "for i in range(len(X_train[0])):\n",
    "    attributes[i] = [float(j) for j in range(17)]\n",
    "\n",
    "id3_tree = id3_classifier.fit(X_train, y_train, attributes, digits.target_names, remaining_attributes = attributes)\n",
    "predictions = id3_classifier.predict(X_test, id3_tree)"
   ]
  },
  {
   "cell_type": "code",
   "execution_count": 6,
   "metadata": {},
   "outputs": [],
   "source": [
    "# plot = id3_classifier.make_dot_data()\n",
    "# plot.render('digit_tree')"
   ]
  },
  {
   "cell_type": "code",
   "execution_count": 7,
   "metadata": {},
   "outputs": [
    {
     "output_type": "error",
     "ename": "NameError",
     "evalue": "name 'id3_classifier_toy' is not defined",
     "traceback": [
      "\u001b[0;31m---------------------------------------------------------------------------\u001b[0m",
      "\u001b[0;31mNameError\u001b[0m                                 Traceback (most recent call last)",
      "\u001b[0;32m<ipython-input-7-84788ab1dbb3>\u001b[0m in \u001b[0;36m<module>\u001b[0;34m\u001b[0m\n\u001b[1;32m     10\u001b[0m     \u001b[0mplt\u001b[0m\u001b[0;34m.\u001b[0m\u001b[0mshow\u001b[0m\u001b[0;34m(\u001b[0m\u001b[0;34m)\u001b[0m\u001b[0;34m\u001b[0m\u001b[0;34m\u001b[0m\u001b[0m\n\u001b[1;32m     11\u001b[0m \u001b[0;34m\u001b[0m\u001b[0m\n\u001b[0;32m---> 12\u001b[0;31m \u001b[0mprint_classification_report\u001b[0m\u001b[0;34m(\u001b[0m\u001b[0mid3_classifier_toy\u001b[0m\u001b[0;34m,\u001b[0m \u001b[0;34m\"ID3 Toy\"\u001b[0m\u001b[0;34m,\u001b[0m \u001b[0mtarget2\u001b[0m\u001b[0;34m,\u001b[0m \u001b[0mpredictions_toy\u001b[0m\u001b[0;34m)\u001b[0m\u001b[0;34m\u001b[0m\u001b[0;34m\u001b[0m\u001b[0m\n\u001b[0m",
      "\u001b[0;31mNameError\u001b[0m: name 'id3_classifier_toy' is not defined"
     ]
    }
   ],
   "source": [
    "from sklearn import metrics\n",
    "import seaborn as sn\n",
    "\n",
    "def print_classification_report(classifier, classifier_name, true_label, predictions):\n",
    "    print('Classification report for classifier %s: \\n %s\\n' %(classifier,metrics.classification_report(true_label, predictions)))\n",
    "\n",
    "    confusion_matrix = metrics.confusion_matrix(true_label, predictions)\n",
    "    sn.set(font_scale=1.4)\n",
    "    sn.heatmap(confusion_matrix, annot=True, annot_kws={\"size\": 16})\n",
    "    plt.show()\n",
    "\n",
    "print_classification_report(id3_classifier, \"ID3 Toy\", y_test, predictions)"
   ]
  },
  {
   "cell_type": "code",
   "execution_count": null,
   "metadata": {},
   "outputs": [],
   "source": []
  }
 ]
}