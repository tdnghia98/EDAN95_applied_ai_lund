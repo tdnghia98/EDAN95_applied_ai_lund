{
  "nbformat": 4,
  "nbformat_minor": 0,
  "metadata": {
    "colab": {
      "name": "lab_5_nb.ipynb",
      "provenance": [],
      "collapsed_sections": [
        "q8GF61X8RSlK",
        "cgXUqEeJRljw"
      ]
    },
    "kernelspec": {
      "name": "python3",
      "display_name": "Python 3.7.7 64-bit ('ai': conda)",
      "metadata": {
        "interpreter": {
          "hash": "82cc4e29342adb8a83e3ac91067977b99f53db61899697841d2c23a197e9a978"
        }
      }
    }
  },
  "cells": [
    {
      "cell_type": "code",
      "metadata": {
        "id": "vJTKUoUikpzp"
      },
      "source": [
        "%matplotlib inline\n",
        "\n",
        "from PIL import Image\n",
        "import glob\n",
        "import numpy as np\n",
        "from itertools import product\n",
        "import matplotlib.pyplot as plt\n",
        "\n",
        "from sklearn.model_selection import train_test_split\n",
        "from sklearn import metrics\n",
        "from sklearn.datasets import load_digits\n",
        "from sklearn.naive_bayes import GaussianNB"
      ],
      "execution_count": 2,
      "outputs": []
    },
    {
      "cell_type": "code",
      "execution_count": 4,
      "metadata": {},
      "outputs": [],
      "source": [
        "machine_name = 'local'"
      ]
    },
    {
      "cell_type": "code",
      "metadata": {
        "colab": {
          "base_uri": "https://localhost:8080/"
        },
        "id": "vOuXZYcF51km",
        "outputId": "7bb4869e-48dd-435f-fe48-f0a107844a14"
      },
      "source": [
        "if machine_name == 'local':\n",
        "    BASE_DIR = '/Users/duy/Documents/code/lund/EDAN95_applied_ai_lund/lab_5_nb/'\n",
        "else:\n",
        "    from google.colab import drive\n",
        "    drive.mount(\"/content/drive\")\n",
        "    BASE_DIR = \"content/drive/My Drive/Colab Notebooks/lab_5_nb/\"\n",
        "# Replace default BASE_DIR of the evaluate_classifier method"
      ],
      "execution_count": 6,
      "outputs": []
    },
    {
      "cell_type": "code",
      "metadata": {
        "id": "LpCFrlA7Xcz4"
      },
      "source": [
        "def evaluate_classifier(Classifier, is_naive_bayes_classifier=False, dataset=\"mnist\", BASE_DIR=\"/Users/duy/Documents/code/lund/EDAN95_applied_ai_lund/lab_5_nb/MNIST_Light\"):\n",
        "  classifier = Classifier()\n",
        "  data_prep = DataPreparator(BASE_DIR)\n",
        "  train_features, test_features, train_labels, test_labels = data_prep.get_data(dataset, is_naive_bayes_classifier=is_naive_bayes_classifier)\n",
        "  classifier.fit(train_features, train_labels)\n",
        "  preds = classifier.predict(test_features)\n",
        "  print(\"Classification report \\n %s \\n\" % (metrics.classification_report(test_labels, preds)))\n",
        "  print(\"Confusion matrix \\n%s\\n\" %(metrics.confusion_matrix(test_labels, preds)))\n",
        "  if dataset == \"mnist\":\n",
        "    mnist = MNISTData(BASE_DIR + 'MNIST_Light/*/*.png')\n",
        "    mnist.visualize_wrong_class(preds, 5)"
      ],
      "execution_count": 8,
      "outputs": []
    },
    {
      "cell_type": "code",
      "metadata": {
        "id": "qV3mSNUUruJv"
      },
      "source": [
        "# ---------------------------------------------------------------- #\n",
        "# This code is mainly from the EDAN95 fall term lab session No 6,\n",
        "# provided by Volker Krueger\n",
        "# ---------------------------------------------------------------- #\n",
        "\n",
        "class MNISTData():\n",
        "\n",
        "    def __init__(self, dir):\n",
        "        print('Loading MNIST data form %s' %dir)\n",
        "\n",
        "        filelist = sorted(glob.glob(dir))\n",
        "        self.x = np.array([np.array(Image.open(fname)) for fname in filelist])\n",
        "\n",
        "        self.samples_per_class = 500\n",
        "        self.number_of_classes = 10\n",
        "\n",
        "        self.y = np.zeros(self.number_of_classes * self.samples_per_class,dtype=int)\n",
        "        for cls in range(1,self.number_of_classes):\n",
        "            self.y[(cls*500):(cls+1)*500] = cls\n",
        "\n",
        "\n",
        "    def get_data(self):\n",
        "\n",
        "        self.train_features, self.test_features, self.train_labels, self.test_labels = train_test_split(self.x, self.y, test_size=0.3,\n",
        "                                                                                    random_state=42)\n",
        "        self.train_normalised = self.train_features.reshape(3500, 400) / 255.0\n",
        "        self.test_normalised = self.test_features.reshape(1500, 400) / 255.0\n",
        "\n",
        "        return self.train_normalised, self.test_normalised, self.train_labels, self.test_labels\n",
        "\n",
        "\n",
        "    def visualize_random(self):\n",
        "\n",
        "        examples_per_class = 8\n",
        "        for cls in range(self.number_of_classes):\n",
        "            idxs = np.where(self.train_labels == cls)[0]\n",
        "            idxs = np.random.choice(idxs, examples_per_class, replace=False)\n",
        "            for i, idx in enumerate(idxs):\n",
        "                plt.subplot(examples_per_class, self.number_of_classes, i * self.number_of_classes + cls + 1)\n",
        "                plt.imshow(self.train_features[idx].astype('uint8'), cmap='gray')\n",
        "                plt.axis('off')\n",
        "                if i == 0:\n",
        "                    plt.title(str(cls))\n",
        "        plt.show()\n",
        "\n",
        "    def visualize_wrong_class(self, pred, examples_per_class):\n",
        "        for cls in range(self.number_of_classes):\n",
        "            idxs = [idx for idx, value in enumerate(self.test_labels) if((value != cls) and (pred[idx] == cls))]\n",
        "            if(len(idxs) > examples_per_class):\n",
        "                idxs = np.random.choice(idxs, examples_per_class, replace=False)\n",
        "\n",
        "            for i, idx in enumerate(idxs):\n",
        "                plt.subplot(examples_per_class, self.number_of_classes, i * self.number_of_classes + cls + 1)\n",
        "                plt.imshow(self.test_features[idx].astype('uint8'), cmap='gray')\n",
        "                plt.axis('off')\n",
        "                if i == 0:\n",
        "                    plt.title(str(cls))\n",
        "        plt.show()"
      ],
      "execution_count": 10,
      "outputs": []
    },
    {
      "cell_type": "code",
      "metadata": {
        "id": "tW4wVQAs3C75"
      },
      "source": [
        "class DataPreparator():\n",
        "  def __init__(self, BASE_DIR):\n",
        "    self.base_dir = BASE_DIR\n",
        "    self.random_state = 10\n",
        "  def get_data(self, dataset=\"mnist\", is_naive_bayes_classifier=False):\n",
        "    if dataset == \"mnist\":\n",
        "      mnist = MNISTData(self.base_dir + '/*/*.png')\n",
        "      train_features, test_features, train_labels, test_labels = mnist.get_data()\n",
        "      mnist.visualize_random()\n",
        "      if is_naive_bayes_classifier:\n",
        "        n_train, pixels = np.shape(train_features)\n",
        "        dim = int(np.sqrt(pixels))\n",
        "        \n",
        "        train_features = train_features.reshape([len(train_features), dim, dim])\n",
        "        test_features = test_features.reshape([len(test_features), dim, dim])\n",
        "    elif dataset == \"digits\":\n",
        "      digits = load_digits()\n",
        "      train_features, test_features, train_labels, test_labels = train_test_split(digits.images, digits.target, test_size=0.3, random_state=self.random_state)\n",
        "      \n",
        "      if not is_naive_bayes_classifier:\n",
        "        train_features = train_features.reshape([len(train_features), -1])\n",
        "        test_features = test_features.reshape([len(test_features), -1])\n",
        "\n",
        "    elif dataset == \"digits_summarized\":\n",
        "      digits = load_digits()\n",
        "      train_features, test_features, train_labels, test_labels = train_test_split(digits.images, digits.target, test_size=0.3, random_state=self.random_state)\n",
        "\n",
        "      train_features[train_features < 5] = 0\n",
        "      train_features[(train_features >= 5) & (train_features < 11)] = 1.\n",
        "      train_features[train_features >= 11] = 2.\n",
        "      \n",
        "      test_features[test_features < 5] = 0.\n",
        "      test_features[(test_features >= 5) & (test_features < 11)] = 1.\n",
        "      test_features[test_features >= 11] = 2.\n",
        "      \n",
        "      if not is_naive_bayes_classifier:\n",
        "        train_features = train_features.reshape([len(train_features), -1])\n",
        "        test_features = test_features.reshape([len(test_features), -1])\n",
        "    return train_features, test_features, train_labels, test_labels"
      ],
      "execution_count": 12,
      "outputs": []
    },
    {
      "cell_type": "code",
      "metadata": {
        "id": "FkIdzMvdrxPK"
      },
      "source": [
        "class NearestCentroidClassifier():\n",
        "  def fit(self, X, y):\n",
        "    n_observations, n_features = np.shape(X)\n",
        "    classes = np.unique(y)\n",
        "    n_classes = len(classes)\n",
        "    # Contain the centroid of each class. Each centroid has n_features (just like an element from X)\n",
        "    self.centroids = np.empty((n_classes, n_features), dtype=np.float64)\n",
        "\n",
        "    for current_class in classes:\n",
        "      self.centroids[current_class] = X[y == current_class].mean(axis=0)\n",
        "    return self\n",
        "\n",
        "  def predict(self, X):\n",
        "    preds = np.empty(len(X), dtype= np.int32)\n",
        "\n",
        "    for i, x in enumerate(X):\n",
        "      # The class is the nearest centroid, which means the centroid with smallest value of L2 distance\n",
        "      preds[i] = np.argmin([np.linalg.norm(x - centroid, 2) for centroid in self.centroids])\n",
        "\n",
        "    self.preds = preds\n",
        "    return self.preds"
      ],
      "execution_count": 14,
      "outputs": []
    },
    {
      "cell_type": "code",
      "metadata": {
        "id": "D4WgLrdaUgrU"
      },
      "source": [
        "class NaiveBayesClassifier():\n",
        "  def fit(self, X, y, data =\"mnist\"):\n",
        "    self.classes, counts = np.unique(y, return_counts=True)\n",
        "    n_obs, n_rows, n_cols = np.shape(X)\n",
        "    pixel_values = np.unique(X.flatten())\n",
        "    cond_prob = {}\n",
        "\n",
        "    for current_class in self.classes:\n",
        "      # Contain caracteristics of each pixel (i,j) of the samples in current_class\n",
        "      class_pixel = {}\n",
        "      # Grab all samples of current class\n",
        "      X_current_class = X[y == current_class]\n",
        "\n",
        "      # Loop through all pixels of the samples\n",
        "      for k, (i,j) in enumerate(product(range(n_rows), range(n_cols))):\n",
        "          \n",
        "        pixel_val_counts = np.zeros(len(pixel_values))\n",
        "        #Get unique the number of unique values and their position\n",
        "        pos, n_uniques = np.unique(X[y == current_class][:,i,j], return_counts=True)\n",
        "        #Set the number number of unique values at corresponding position\n",
        "        pixel_val_counts[pos.astype(np.int8)] = n_uniques\n",
        "        #Normalize to be probabilities using add-one or Laplace smoothing\n",
        "        if data == \"mnist\":\n",
        "          class_pixel[k] = (pixel_val_counts) / np.sum(pixel_val_counts)\n",
        "        else:\n",
        "          class_pixel[k] = (pixel_val_counts + 1) / np.sum(pixel_val_counts + 1)\n",
        "          \n",
        "      cond_prob[current_class] = class_pixel\n",
        "\n",
        "      self.cond_prob = cond_prob\n",
        "      self.priors = counts / np.sum(counts)\n",
        "\n",
        "  def predict(self, X):\n",
        "    preds = np.zeros(len(X), dtype=np.int32)\n",
        "    n_obs, n_rows, n_cols = np.shape(X)\n",
        "\n",
        "    for n, x in enumerate(X):\n",
        "      # Probability on all classes\n",
        "      probs = np.zeros(len(self.classes))\n",
        "\n",
        "      for current_class in self.classes:\n",
        "        # Prior term - Prior probability of current_class\n",
        "        prob = self.priors[current_class]\n",
        "\n",
        "        for k, (i,j) in enumerate(product(range(n_rows), range(n_cols))):\n",
        "          prob *= self.cond_prob[current_class][k][int(x[i,j])]\n",
        "        \n",
        "        probs[current_class] = self.priors[current_class] * prob\n",
        "\n",
        "      preds[n] = np.argmax(probs)\n",
        "\n",
        "    self.preds = preds\n",
        "    return preds"
      ],
      "execution_count": 16,
      "outputs": []
    },
    {
      "cell_type": "code",
      "metadata": {
        "id": "UG82g-CQ93Gr"
      },
      "source": [
        "class GaussianNaiveBayesClassifier():\n",
        "  def gauss(self, x, mu, sigma, epsilon = 1e-2):\n",
        "    sigma += epsilon\n",
        "    mu += epsilon\n",
        "    return 1/(np.sqrt(2*np.pi)*sigma) * np.exp(-1/(2* (sigma ** 2)) * (x-mu) ** 2)\n",
        "\n",
        "  def fit(self, X, y):\n",
        "    self.classes = np.unique(y)\n",
        "\n",
        "    means = {}\n",
        "    stds = {}\n",
        "\n",
        "    for current_class in self.classes:\n",
        "      X_current_class = X[y == current_class]\n",
        "\n",
        "      means[current_class] = np.mean(X_current_class, axis=0)\n",
        "      stds[current_class] = np.std(X_current_class, axis=0)\n",
        "\n",
        "    self.means = means\n",
        "    self.stds = stds\n",
        "\n",
        "  def predict(self, X):\n",
        "    predictions = np.empty(len(X))\n",
        "    gaussian = np.vectorize(self.gauss)\n",
        "\n",
        "    for i, x in enumerate(X):\n",
        "      probs = np.zeros(len(self.classes))\n",
        "      \n",
        "      for current_class in self.classes:\n",
        "        prob = gaussian(x, self.means[current_class], self.stds[current_class])\n",
        "        probs[current_class] = np.sum(prob)\n",
        "\n",
        "      predictions[i] = np.argmax(probs)\n",
        "\n",
        "    self.predictions = predictions\n",
        "    return self.predictions"
      ],
      "execution_count": 18,
      "outputs": []
    },
    {
      "cell_type": "markdown",
      "metadata": {
        "id": "MC4Zwuw6RvNX"
      },
      "source": [
        "# Digits"
      ]
    },
    {
      "cell_type": "code",
      "metadata": {
        "id": "bm9lis_tRw_G"
      },
      "source": [
        "dataset = \"digits\""
      ],
      "execution_count": 20,
      "outputs": []
    },
    {
      "cell_type": "code",
      "metadata": {
        "colab": {
          "base_uri": "https://localhost:8080/"
        },
        "id": "s1oyF4yyDamL",
        "outputId": "0ceb6a5a-b430-4723-ca81-dc45ee0b8e53"
      },
      "source": [
        "evaluate_classifier(GaussianNB, dataset=dataset)"
      ],
      "execution_count": 22,
      "outputs": [
        {
          "output_type": "stream",
          "name": "stdout",
          "text": [
            "Classification report \n               precision    recall  f1-score   support\n\n           0       1.00      0.96      0.98        51\n           1       0.62      0.93      0.74        57\n           2       0.93      0.49      0.64        55\n           3       0.75      0.91      0.82        56\n           4       0.95      0.76      0.85        51\n           5       0.90      0.90      0.90        51\n           6       0.98      0.96      0.97        55\n           7       0.78      0.98      0.87        60\n           8       0.57      0.62      0.60        50\n           9       0.97      0.57      0.72        54\n\n    accuracy                           0.81       540\n   macro avg       0.85      0.81      0.81       540\nweighted avg       0.84      0.81      0.81       540\n \n\nConfusion matrix \n[[49  1  0  0  1  0  0  0  0  0]\n [ 0 53  1  0  0  0  0  0  3  0]\n [ 0  8 27  8  0  0  0  0 12  0]\n [ 0  0  0 51  0  0  0  1  3  1]\n [ 0  8  0  0 39  1  0  2  1  0]\n [ 0  0  0  1  0 46  0  3  1  0]\n [ 0  1  1  0  0  0 53  0  0  0]\n [ 0  0  0  0  1  0  0 59  0  0]\n [ 0 13  0  1  0  3  0  2 31  0]\n [ 0  2  0  7  0  1  1  9  3 31]]\n\n"
          ]
        }
      ]
    },
    {
      "cell_type": "code",
      "metadata": {
        "colab": {
          "base_uri": "https://localhost:8080/"
        },
        "id": "jOH5aLOOD5VS",
        "outputId": "072f7857-8ca6-4189-80a5-0013f27c034c"
      },
      "source": [
        "evaluate_classifier(NearestCentroidClassifier, dataset=dataset)"
      ],
      "execution_count": 24,
      "outputs": [
        {
          "output_type": "stream",
          "name": "stdout",
          "text": [
            "Classification report \n               precision    recall  f1-score   support\n\n           0       0.98      0.98      0.98        51\n           1       0.81      0.75      0.78        57\n           2       0.84      0.89      0.87        55\n           3       0.96      0.93      0.95        56\n           4       0.98      0.92      0.95        51\n           5       0.90      0.84      0.87        51\n           6       0.98      0.98      0.98        55\n           7       0.92      1.00      0.96        60\n           8       0.82      0.80      0.81        50\n           9       0.78      0.85      0.81        54\n\n    accuracy                           0.90       540\n   macro avg       0.90      0.90      0.90       540\nweighted avg       0.90      0.90      0.90       540\n \n\nConfusion matrix \n[[50  0  0  0  1  0  0  0  0  0]\n [ 0 43  8  0  0  1  0  0  2  3]\n [ 1  1 49  2  0  0  0  0  2  0]\n [ 0  0  1 52  0  0  0  1  2  0]\n [ 0  2  0  0 47  0  0  0  2  0]\n [ 0  0  0  0  0 43  0  0  0  8]\n [ 0  1  0  0  0  0 54  0  0  0]\n [ 0  0  0  0  0  0  0 60  0  0]\n [ 0  5  0  0  0  2  1  0 40  2]\n [ 0  1  0  0  0  2  0  4  1 46]]\n\n"
          ]
        }
      ]
    },
    {
      "cell_type": "code",
      "metadata": {
        "colab": {
          "base_uri": "https://localhost:8080/"
        },
        "id": "zaioYDfpGsm3",
        "outputId": "d7a5466c-3ea9-4222-bddc-66e076f95b2c"
      },
      "source": [
        "evaluate_classifier(GaussianNaiveBayesClassifier, dataset=dataset)"
      ],
      "execution_count": 26,
      "outputs": [
        {
          "output_type": "stream",
          "name": "stdout",
          "text": [
            "Classification report \n               precision    recall  f1-score   support\n\n           0       0.11      1.00      0.19        51\n           1       0.00      0.00      0.00        57\n           2       0.00      0.00      0.00        55\n           3       0.00      0.00      0.00        56\n           4       0.00      0.00      0.00        51\n           5       0.00      0.00      0.00        51\n           6       0.28      0.18      0.22        55\n           7       0.72      0.22      0.33        60\n           8       0.00      0.00      0.00        50\n           9       0.00      0.00      0.00        54\n\n    accuracy                           0.14       540\n   macro avg       0.11      0.14      0.07       540\nweighted avg       0.12      0.14      0.08       540\n \n\nConfusion matrix \n[[51  0  0  0  0  0  0  0  0  0]\n [46  0  0  0  0  0 11  0  0  0]\n [41  2  0  0  0  0 12  0  0  0]\n [55  0  0  0  0  0  0  1  0  0]\n [49  0  0  0  0  0  0  2  0  0]\n [49  0  0  0  0  0  0  2  0  0]\n [45  0  0  0  0  0 10  0  0  0]\n [47  0  0  0  0  0  0 13  0  0]\n [50  0  0  0  0  0  0  0  0  0]\n [51  0  0  0  0  0  3  0  0  0]]\n\n"
          ]
        }
      ]
    },
    {
      "cell_type": "code",
      "metadata": {
        "colab": {
          "base_uri": "https://localhost:8080/"
        },
        "id": "DgRZbmWKKAz3",
        "outputId": "1cb610ac-bd94-4215-b537-e919ae4413be"
      },
      "source": [
        "evaluate_classifier(NaiveBayesClassifier, is_naive_bayes_classifier=True, dataset=dataset)"
      ],
      "execution_count": 28,
      "outputs": [
        {
          "output_type": "stream",
          "name": "stdout",
          "text": [
            "Classification report \n               precision    recall  f1-score   support\n\n           0       0.21      0.98      0.35        51\n           1       0.93      0.47      0.63        57\n           2       0.88      0.55      0.67        55\n           3       0.89      0.43      0.58        56\n           4       0.97      0.67      0.79        51\n           5       0.94      0.57      0.71        51\n           6       1.00      0.64      0.78        55\n           7       0.92      0.57      0.70        60\n           8       0.60      0.50      0.54        50\n           9       0.77      0.50      0.61        54\n\n    accuracy                           0.58       540\n   macro avg       0.81      0.59      0.64       540\nweighted avg       0.82      0.58      0.64       540\n \n\nConfusion matrix \n[[50  0  0  0  1  0  0  0  0  0]\n [20 27  3  0  0  1  0  0  6  0]\n [19  1 30  2  0  0  0  0  3  0]\n [21  0  0 24  0  0  0  0  3  8]\n [17  0  0  0 34  0  0  0  0  0]\n [19  0  0  0  0 29  0  1  2  0]\n [19  0  0  0  0  0 35  0  1  0]\n [26  0  0  0  0  0  0 34  0  0]\n [20  1  1  1  0  1  0  1 25  0]\n [24  0  0  0  0  0  0  1  2 27]]\n\n"
          ]
        }
      ]
    },
    {
      "cell_type": "markdown",
      "metadata": {
        "id": "q8GF61X8RSlK"
      },
      "source": [
        "# Digits summarized"
      ]
    },
    {
      "cell_type": "code",
      "metadata": {
        "id": "U04D_FHxRVp3"
      },
      "source": [
        "dataset = \"digits_summarized\""
      ],
      "execution_count": 30,
      "outputs": []
    },
    {
      "cell_type": "code",
      "metadata": {
        "colab": {
          "base_uri": "https://localhost:8080/"
        },
        "id": "p2VxAaHsRdjx",
        "outputId": "68809869-5fe8-4cb8-d186-71201c5affb8"
      },
      "source": [
        "evaluate_classifier(GaussianNB, dataset=dataset)"
      ],
      "execution_count": 32,
      "outputs": [
        {
          "output_type": "stream",
          "name": "stdout",
          "text": [
            "Classification report \n               precision    recall  f1-score   support\n\n           0       0.98      0.98      0.98        51\n           1       0.74      0.49      0.59        57\n           2       0.81      0.40      0.54        55\n           3       0.89      0.30      0.45        56\n           4       0.98      0.86      0.92        51\n           5       0.92      0.71      0.80        51\n           6       0.96      0.95      0.95        55\n           7       0.92      0.92      0.92        60\n           8       0.26      0.92      0.41        50\n           9       0.88      0.52      0.65        54\n\n    accuracy                           0.70       540\n   macro avg       0.83      0.70      0.72       540\nweighted avg       0.84      0.70      0.72       540\n \n\nConfusion matrix \n[[50  0  0  0  0  0  0  0  1  0]\n [ 0 28  4  0  0  1  0  0 23  1]\n [ 1  1 22  0  0  0  0  0 31  0]\n [ 0  2  1 17  0  0  0  1 33  2]\n [ 0  1  0  0 44  1  2  0  3  0]\n [ 0  0  0  1  0 36  0  2 11  1]\n [ 0  2  0  1  0  0 52  0  0  0]\n [ 0  0  0  0  1  0  0 55  4  0]\n [ 0  1  0  0  0  1  0  2 46  0]\n [ 0  3  0  0  0  0  0  0 23 28]]\n\n"
          ]
        }
      ]
    },
    {
      "cell_type": "code",
      "metadata": {
        "colab": {
          "base_uri": "https://localhost:8080/"
        },
        "id": "cXJpYb_sRfdZ",
        "outputId": "146635b3-6b63-4d76-8a2e-603e36c7c370"
      },
      "source": [
        "evaluate_classifier(NearestCentroidClassifier, dataset=dataset)"
      ],
      "execution_count": 34,
      "outputs": [
        {
          "output_type": "stream",
          "name": "stdout",
          "text": [
            "Classification report \n               precision    recall  f1-score   support\n\n           0       0.98      0.98      0.98        51\n           1       0.78      0.74      0.76        57\n           2       0.84      0.84      0.84        55\n           3       0.94      0.89      0.92        56\n           4       0.96      0.92      0.94        51\n           5       0.91      0.84      0.88        51\n           6       0.96      0.98      0.97        55\n           7       0.92      0.98      0.95        60\n           8       0.72      0.78      0.75        50\n           9       0.82      0.87      0.85        54\n\n    accuracy                           0.88       540\n   macro avg       0.88      0.88      0.88       540\nweighted avg       0.88      0.88      0.88       540\n \n\nConfusion matrix \n[[50  0  0  0  1  0  0  0  0  0]\n [ 0 42  7  0  0  1  1  0  6  0]\n [ 1  2 46  2  0  0  0  0  4  0]\n [ 0  1  1 50  0  0  0  1  2  1]\n [ 0  2  0  0 47  0  0  0  2  0]\n [ 0  0  0  1  0 43  0  0  0  7]\n [ 0  1  0  0  0  0 54  0  0  0]\n [ 0  0  0  0  1  0  0 59  0  0]\n [ 0  4  1  0  0  2  1  1 39  2]\n [ 0  2  0  0  0  1  0  3  1 47]]\n\n"
          ]
        }
      ]
    },
    {
      "cell_type": "code",
      "metadata": {
        "colab": {
          "base_uri": "https://localhost:8080/"
        },
        "id": "pC8j0fH1RgzP",
        "outputId": "b4877f73-59f9-4d2b-a50b-b59af1f02e9d"
      },
      "source": [
        "evaluate_classifier(NaiveBayesClassifier, dataset=dataset, is_naive_bayes_classifier=True)"
      ],
      "execution_count": 36,
      "outputs": [
        {
          "output_type": "stream",
          "name": "stdout",
          "text": [
            "Classification report \n               precision    recall  f1-score   support\n\n           0       0.94      0.94      0.94        51\n           1       0.82      0.79      0.80        57\n           2       0.86      0.91      0.88        55\n           3       0.94      0.89      0.92        56\n           4       0.98      0.92      0.95        51\n           5       0.89      0.82      0.86        51\n           6       1.00      0.96      0.98        55\n           7       0.87      1.00      0.93        60\n           8       0.78      0.78      0.78        50\n           9       0.79      0.81      0.80        54\n\n    accuracy                           0.89       540\n   macro avg       0.89      0.88      0.88       540\nweighted avg       0.89      0.89      0.89       540\n \n\nConfusion matrix \n[[48  0  0  1  1  0  0  0  1  0]\n [ 1 45  6  0  0  1  0  0  4  0]\n [ 1  1 50  1  0  0  0  0  2  0]\n [ 0  0  1 50  0  0  0  2  1  2]\n [ 0  2  0  0 47  0  0  1  1  0]\n [ 0  1  0  0  0 42  0  1  0  7]\n [ 0  1  0  0  0  0 53  0  0  1]\n [ 0  0  0  0  0  0  0 60  0  0]\n [ 0  3  1  0  0  3  0  2 39  2]\n [ 1  2  0  1  0  1  0  3  2 44]]\n\n"
          ]
        }
      ]
    },
    {
      "cell_type": "code",
      "metadata": {
        "colab": {
          "base_uri": "https://localhost:8080/"
        },
        "id": "4CzqM9eKRj6I",
        "outputId": "7826039a-0622-4ee3-c467-997318b1ba43"
      },
      "source": [
        "evaluate_classifier(GaussianNaiveBayesClassifier, dataset=dataset)"
      ],
      "execution_count": 38,
      "outputs": [
        {
          "output_type": "stream",
          "name": "stdout",
          "text": [
            "Classification report \n               precision    recall  f1-score   support\n\n           0       0.61      0.67      0.64        51\n           1       0.00      0.00      0.00        57\n           2       0.00      0.00      0.00        55\n           3       0.00      0.00      0.00        56\n           4       0.00      0.00      0.00        51\n           5       0.00      0.00      0.00        51\n           6       0.13      1.00      0.24        55\n           7       1.00      0.02      0.03        60\n           8       0.07      0.10      0.08        50\n           9       0.00      0.00      0.00        54\n\n    accuracy                           0.18       540\n   macro avg       0.18      0.18      0.10       540\nweighted avg       0.19      0.18      0.10       540\n \n\nConfusion matrix \n[[34  0  0  0  0  0 17  0  0  0]\n [ 0  0  0  0  0  0 54  0  3  0]\n [ 1  0  0  0  0  0 43  0 11  0]\n [ 0  0  0  0  0  0 50  0  6  0]\n [ 4  0  0  0  0  0 44  0  3  0]\n [ 3  0  0  0  0  0 35  0 13  0]\n [ 0  0  0  0  0  0 55  0  0  0]\n [ 3  0  0  0  0  0 35  1 21  0]\n [ 1  0  0  0  0  0 44  0  5  0]\n [10  0  0  0  0  0 35  0  9  0]]\n\n"
          ]
        }
      ]
    },
    {
      "cell_type": "markdown",
      "metadata": {
        "id": "cgXUqEeJRljw"
      },
      "source": [
        "# MNIST"
      ]
    },
    {
      "cell_type": "code",
      "metadata": {
        "id": "qoXhd6YFRnPm"
      },
      "source": [
        "dataset = \"mnist\""
      ],
      "execution_count": 40,
      "outputs": []
    },
    {
      "cell_type": "code",
      "metadata": {
        "colab": {
          "base_uri": "https://localhost:8080/",
          "height": 1000
        },
        "id": "k_wsXN6oRpDX",
        "outputId": "a5e2b2a0-7c2b-4c46-b139-cde8a9734ee1"
      },
      "source": [
        "evaluate_classifier(GaussianNB, dataset=dataset)"
      ],
      "execution_count": 42,
      "outputs": [
        {
          "output_type": "stream",
          "name": "stdout",
          "text": [
            "Loading MNIST data form /Users/duy/Documents/code/lund/EDAN95_applied_ai_lund/lab_5_nb/MNIST_LightMNIST_Light/*/*.png\n"
          ]
        },
        {
          "output_type": "error",
          "ename": "ValueError",
          "evalue": "Found input variables with inconsistent numbers of samples: [0, 5000]",
          "traceback": [
            "\u001b[0;31m---------------------------------------------------------------------------\u001b[0m",
            "\u001b[0;31mValueError\u001b[0m                                Traceback (most recent call last)",
            "\u001b[0;32m<ipython-input-42-d26a5c95ce99>\u001b[0m in \u001b[0;36m<module>\u001b[0;34m\u001b[0m\n\u001b[0;32m----> 1\u001b[0;31m \u001b[0mevaluate_classifier\u001b[0m\u001b[0;34m(\u001b[0m\u001b[0mGaussianNB\u001b[0m\u001b[0;34m,\u001b[0m \u001b[0mdataset\u001b[0m\u001b[0;34m=\u001b[0m\u001b[0mdataset\u001b[0m\u001b[0;34m)\u001b[0m\u001b[0;34m\u001b[0m\u001b[0;34m\u001b[0m\u001b[0m\n\u001b[0m",
            "\u001b[0;32m<ipython-input-8-a722f50b0d3b>\u001b[0m in \u001b[0;36mevaluate_classifier\u001b[0;34m(Classifier, is_naive_bayes_classifier, dataset, BASE_DIR)\u001b[0m\n\u001b[1;32m      2\u001b[0m   \u001b[0mclassifier\u001b[0m \u001b[0;34m=\u001b[0m \u001b[0mClassifier\u001b[0m\u001b[0;34m(\u001b[0m\u001b[0;34m)\u001b[0m\u001b[0;34m\u001b[0m\u001b[0;34m\u001b[0m\u001b[0m\n\u001b[1;32m      3\u001b[0m   \u001b[0mdata_prep\u001b[0m \u001b[0;34m=\u001b[0m \u001b[0mDataPreparator\u001b[0m\u001b[0;34m(\u001b[0m\u001b[0mBASE_DIR\u001b[0m\u001b[0;34m)\u001b[0m\u001b[0;34m\u001b[0m\u001b[0;34m\u001b[0m\u001b[0m\n\u001b[0;32m----> 4\u001b[0;31m   \u001b[0mtrain_features\u001b[0m\u001b[0;34m,\u001b[0m \u001b[0mtest_features\u001b[0m\u001b[0;34m,\u001b[0m \u001b[0mtrain_labels\u001b[0m\u001b[0;34m,\u001b[0m \u001b[0mtest_labels\u001b[0m \u001b[0;34m=\u001b[0m \u001b[0mdata_prep\u001b[0m\u001b[0;34m.\u001b[0m\u001b[0mget_data\u001b[0m\u001b[0;34m(\u001b[0m\u001b[0mdataset\u001b[0m\u001b[0;34m,\u001b[0m \u001b[0mis_naive_bayes_classifier\u001b[0m\u001b[0;34m=\u001b[0m\u001b[0mis_naive_bayes_classifier\u001b[0m\u001b[0;34m)\u001b[0m\u001b[0;34m\u001b[0m\u001b[0;34m\u001b[0m\u001b[0m\n\u001b[0m\u001b[1;32m      5\u001b[0m   \u001b[0mclassifier\u001b[0m\u001b[0;34m.\u001b[0m\u001b[0mfit\u001b[0m\u001b[0;34m(\u001b[0m\u001b[0mtrain_features\u001b[0m\u001b[0;34m,\u001b[0m \u001b[0mtrain_labels\u001b[0m\u001b[0;34m)\u001b[0m\u001b[0;34m\u001b[0m\u001b[0;34m\u001b[0m\u001b[0m\n\u001b[1;32m      6\u001b[0m   \u001b[0mpreds\u001b[0m \u001b[0;34m=\u001b[0m \u001b[0mclassifier\u001b[0m\u001b[0;34m.\u001b[0m\u001b[0mpredict\u001b[0m\u001b[0;34m(\u001b[0m\u001b[0mtest_features\u001b[0m\u001b[0;34m)\u001b[0m\u001b[0;34m\u001b[0m\u001b[0;34m\u001b[0m\u001b[0m\n",
            "\u001b[0;32m<ipython-input-12-50078595244b>\u001b[0m in \u001b[0;36mget_data\u001b[0;34m(self, dataset, is_naive_bayes_classifier)\u001b[0m\n\u001b[1;32m      6\u001b[0m     \u001b[0;32mif\u001b[0m \u001b[0mdataset\u001b[0m \u001b[0;34m==\u001b[0m \u001b[0;34m\"mnist\"\u001b[0m\u001b[0;34m:\u001b[0m\u001b[0;34m\u001b[0m\u001b[0;34m\u001b[0m\u001b[0m\n\u001b[1;32m      7\u001b[0m       \u001b[0mmnist\u001b[0m \u001b[0;34m=\u001b[0m \u001b[0mMNISTData\u001b[0m\u001b[0;34m(\u001b[0m\u001b[0mself\u001b[0m\u001b[0;34m.\u001b[0m\u001b[0mbase_dir\u001b[0m \u001b[0;34m+\u001b[0m \u001b[0;34m'MNIST_Light/*/*.png'\u001b[0m\u001b[0;34m)\u001b[0m\u001b[0;34m\u001b[0m\u001b[0;34m\u001b[0m\u001b[0m\n\u001b[0;32m----> 8\u001b[0;31m       \u001b[0mtrain_features\u001b[0m\u001b[0;34m,\u001b[0m \u001b[0mtest_features\u001b[0m\u001b[0;34m,\u001b[0m \u001b[0mtrain_labels\u001b[0m\u001b[0;34m,\u001b[0m \u001b[0mtest_labels\u001b[0m \u001b[0;34m=\u001b[0m \u001b[0mmnist\u001b[0m\u001b[0;34m.\u001b[0m\u001b[0mget_data\u001b[0m\u001b[0;34m(\u001b[0m\u001b[0;34m)\u001b[0m\u001b[0;34m\u001b[0m\u001b[0;34m\u001b[0m\u001b[0m\n\u001b[0m\u001b[1;32m      9\u001b[0m       \u001b[0mmnist\u001b[0m\u001b[0;34m.\u001b[0m\u001b[0mvisualize_random\u001b[0m\u001b[0;34m(\u001b[0m\u001b[0;34m)\u001b[0m\u001b[0;34m\u001b[0m\u001b[0;34m\u001b[0m\u001b[0m\n\u001b[1;32m     10\u001b[0m       \u001b[0;32mif\u001b[0m \u001b[0mis_naive_bayes_classifier\u001b[0m\u001b[0;34m:\u001b[0m\u001b[0;34m\u001b[0m\u001b[0;34m\u001b[0m\u001b[0m\n",
            "\u001b[0;32m<ipython-input-10-e9aba6b8cd5a>\u001b[0m in \u001b[0;36mget_data\u001b[0;34m(self)\u001b[0m\n\u001b[1;32m     23\u001b[0m \u001b[0;34m\u001b[0m\u001b[0m\n\u001b[1;32m     24\u001b[0m         self.train_features, self.test_features, self.train_labels, self.test_labels = train_test_split(self.x, self.y, test_size=0.3,\n\u001b[0;32m---> 25\u001b[0;31m                                                                                     random_state=42)\n\u001b[0m\u001b[1;32m     26\u001b[0m         \u001b[0mself\u001b[0m\u001b[0;34m.\u001b[0m\u001b[0mtrain_normalised\u001b[0m \u001b[0;34m=\u001b[0m \u001b[0mself\u001b[0m\u001b[0;34m.\u001b[0m\u001b[0mtrain_features\u001b[0m\u001b[0;34m.\u001b[0m\u001b[0mreshape\u001b[0m\u001b[0;34m(\u001b[0m\u001b[0;36m3500\u001b[0m\u001b[0;34m,\u001b[0m \u001b[0;36m400\u001b[0m\u001b[0;34m)\u001b[0m \u001b[0;34m/\u001b[0m \u001b[0;36m255.0\u001b[0m\u001b[0;34m\u001b[0m\u001b[0;34m\u001b[0m\u001b[0m\n\u001b[1;32m     27\u001b[0m         \u001b[0mself\u001b[0m\u001b[0;34m.\u001b[0m\u001b[0mtest_normalised\u001b[0m \u001b[0;34m=\u001b[0m \u001b[0mself\u001b[0m\u001b[0;34m.\u001b[0m\u001b[0mtest_features\u001b[0m\u001b[0;34m.\u001b[0m\u001b[0mreshape\u001b[0m\u001b[0;34m(\u001b[0m\u001b[0;36m1500\u001b[0m\u001b[0;34m,\u001b[0m \u001b[0;36m400\u001b[0m\u001b[0;34m)\u001b[0m \u001b[0;34m/\u001b[0m \u001b[0;36m255.0\u001b[0m\u001b[0;34m\u001b[0m\u001b[0;34m\u001b[0m\u001b[0m\n",
            "\u001b[0;32m~/opt/anaconda3/envs/ai/lib/python3.7/site-packages/sklearn/model_selection/_split.py\u001b[0m in \u001b[0;36mtrain_test_split\u001b[0;34m(*arrays, **options)\u001b[0m\n\u001b[1;32m   2125\u001b[0m         \u001b[0;32mraise\u001b[0m \u001b[0mTypeError\u001b[0m\u001b[0;34m(\u001b[0m\u001b[0;34m\"Invalid parameters passed: %s\"\u001b[0m \u001b[0;34m%\u001b[0m \u001b[0mstr\u001b[0m\u001b[0;34m(\u001b[0m\u001b[0moptions\u001b[0m\u001b[0;34m)\u001b[0m\u001b[0;34m)\u001b[0m\u001b[0;34m\u001b[0m\u001b[0;34m\u001b[0m\u001b[0m\n\u001b[1;32m   2126\u001b[0m \u001b[0;34m\u001b[0m\u001b[0m\n\u001b[0;32m-> 2127\u001b[0;31m     \u001b[0marrays\u001b[0m \u001b[0;34m=\u001b[0m \u001b[0mindexable\u001b[0m\u001b[0;34m(\u001b[0m\u001b[0;34m*\u001b[0m\u001b[0marrays\u001b[0m\u001b[0;34m)\u001b[0m\u001b[0;34m\u001b[0m\u001b[0;34m\u001b[0m\u001b[0m\n\u001b[0m\u001b[1;32m   2128\u001b[0m \u001b[0;34m\u001b[0m\u001b[0m\n\u001b[1;32m   2129\u001b[0m     \u001b[0mn_samples\u001b[0m \u001b[0;34m=\u001b[0m \u001b[0m_num_samples\u001b[0m\u001b[0;34m(\u001b[0m\u001b[0marrays\u001b[0m\u001b[0;34m[\u001b[0m\u001b[0;36m0\u001b[0m\u001b[0;34m]\u001b[0m\u001b[0;34m)\u001b[0m\u001b[0;34m\u001b[0m\u001b[0;34m\u001b[0m\u001b[0m\n",
            "\u001b[0;32m~/opt/anaconda3/envs/ai/lib/python3.7/site-packages/sklearn/utils/validation.py\u001b[0m in \u001b[0;36mindexable\u001b[0;34m(*iterables)\u001b[0m\n\u001b[1;32m    290\u001b[0m     \"\"\"\n\u001b[1;32m    291\u001b[0m     \u001b[0mresult\u001b[0m \u001b[0;34m=\u001b[0m \u001b[0;34m[\u001b[0m\u001b[0m_make_indexable\u001b[0m\u001b[0;34m(\u001b[0m\u001b[0mX\u001b[0m\u001b[0;34m)\u001b[0m \u001b[0;32mfor\u001b[0m \u001b[0mX\u001b[0m \u001b[0;32min\u001b[0m \u001b[0miterables\u001b[0m\u001b[0;34m]\u001b[0m\u001b[0;34m\u001b[0m\u001b[0;34m\u001b[0m\u001b[0m\n\u001b[0;32m--> 292\u001b[0;31m     \u001b[0mcheck_consistent_length\u001b[0m\u001b[0;34m(\u001b[0m\u001b[0;34m*\u001b[0m\u001b[0mresult\u001b[0m\u001b[0;34m)\u001b[0m\u001b[0;34m\u001b[0m\u001b[0;34m\u001b[0m\u001b[0m\n\u001b[0m\u001b[1;32m    293\u001b[0m     \u001b[0;32mreturn\u001b[0m \u001b[0mresult\u001b[0m\u001b[0;34m\u001b[0m\u001b[0;34m\u001b[0m\u001b[0m\n\u001b[1;32m    294\u001b[0m \u001b[0;34m\u001b[0m\u001b[0m\n",
            "\u001b[0;32m~/opt/anaconda3/envs/ai/lib/python3.7/site-packages/sklearn/utils/validation.py\u001b[0m in \u001b[0;36mcheck_consistent_length\u001b[0;34m(*arrays)\u001b[0m\n\u001b[1;32m    254\u001b[0m     \u001b[0;32mif\u001b[0m \u001b[0mlen\u001b[0m\u001b[0;34m(\u001b[0m\u001b[0muniques\u001b[0m\u001b[0;34m)\u001b[0m \u001b[0;34m>\u001b[0m \u001b[0;36m1\u001b[0m\u001b[0;34m:\u001b[0m\u001b[0;34m\u001b[0m\u001b[0;34m\u001b[0m\u001b[0m\n\u001b[1;32m    255\u001b[0m         raise ValueError(\"Found input variables with inconsistent numbers of\"\n\u001b[0;32m--> 256\u001b[0;31m                          \" samples: %r\" % [int(l) for l in lengths])\n\u001b[0m\u001b[1;32m    257\u001b[0m \u001b[0;34m\u001b[0m\u001b[0m\n\u001b[1;32m    258\u001b[0m \u001b[0;34m\u001b[0m\u001b[0m\n",
            "\u001b[0;31mValueError\u001b[0m: Found input variables with inconsistent numbers of samples: [0, 5000]"
          ]
        }
      ]
    },
    {
      "cell_type": "code",
      "metadata": {
        "colab": {
          "base_uri": "https://localhost:8080/",
          "height": 365
        },
        "id": "JY_hIZ2fRrXP",
        "outputId": "ff57eb1b-e68e-4d56-9dc3-acceacd87354"
      },
      "source": [
        "evaluate_classifier(NearestCentroidClassifier, dataset=dataset)"
      ],
      "execution_count": 23,
      "outputs": [
        {
          "output_type": "stream",
          "name": "stdout",
          "text": [
            "Classification report \n               precision    recall  f1-score   support\n\n           0       0.98      0.98      0.98        51\n           1       0.81      0.75      0.78        57\n           2       0.84      0.89      0.87        55\n           3       0.96      0.93      0.95        56\n           4       0.98      0.92      0.95        51\n           5       0.90      0.84      0.87        51\n           6       0.98      0.98      0.98        55\n           7       0.92      1.00      0.96        60\n           8       0.82      0.80      0.81        50\n           9       0.78      0.85      0.81        54\n\n    accuracy                           0.90       540\n   macro avg       0.90      0.90      0.90       540\nweighted avg       0.90      0.90      0.90       540\n \n\nConfusion matrix \n[[50  0  0  0  1  0  0  0  0  0]\n [ 0 43  8  0  0  1  0  0  2  3]\n [ 1  1 49  2  0  0  0  0  2  0]\n [ 0  0  1 52  0  0  0  1  2  0]\n [ 0  2  0  0 47  0  0  0  2  0]\n [ 0  0  0  0  0 43  0  0  0  8]\n [ 0  1  0  0  0  0 54  0  0  0]\n [ 0  0  0  0  0  0  0 60  0  0]\n [ 0  5  0  0  0  2  1  0 40  2]\n [ 0  1  0  0  0  2  0  4  1 46]]\n\n"
          ]
        }
      ]
    },
    {
      "cell_type": "code",
      "metadata": {
        "colab": {
          "base_uri": "https://localhost:8080/",
          "height": 382
        },
        "id": "JRnVHJRGRsb8",
        "outputId": "4c9abb82-caeb-4d6c-c0a6-c8471c9fab90"
      },
      "source": [
        "evaluate_classifier(NaiveBayesClassifier, dataset=dataset, is_naive_bayes_classifier=True)"
      ],
      "execution_count": 24,
      "outputs": [
        {
          "output_type": "stream",
          "name": "stdout",
          "text": [
            "Classification report \n               precision    recall  f1-score   support\n\n           0       0.21      0.98      0.35        51\n           1       0.93      0.47      0.63        57\n           2       0.88      0.55      0.67        55\n           3       0.89      0.43      0.58        56\n           4       0.97      0.67      0.79        51\n           5       0.94      0.57      0.71        51\n           6       1.00      0.64      0.78        55\n           7       0.92      0.57      0.70        60\n           8       0.60      0.50      0.54        50\n           9       0.77      0.50      0.61        54\n\n    accuracy                           0.58       540\n   macro avg       0.81      0.59      0.64       540\nweighted avg       0.82      0.58      0.64       540\n \n\nConfusion matrix \n[[50  0  0  0  1  0  0  0  0  0]\n [20 27  3  0  0  1  0  0  6  0]\n [19  1 30  2  0  0  0  0  3  0]\n [21  0  0 24  0  0  0  0  3  8]\n [17  0  0  0 34  0  0  0  0  0]\n [19  0  0  0  0 29  0  1  2  0]\n [19  0  0  0  0  0 35  0  1  0]\n [26  0  0  0  0  0  0 34  0  0]\n [20  1  1  1  0  1  0  1 25  0]\n [24  0  0  0  0  0  0  1  2 27]]\n\n"
          ]
        }
      ]
    },
    {
      "cell_type": "code",
      "metadata": {
        "colab": {
          "base_uri": "https://localhost:8080/",
          "height": 365
        },
        "id": "VVn7WABkRtAG",
        "outputId": "bd9409dc-a023-4fe7-cab6-ecf20ef93fc2"
      },
      "source": [
        "evaluate_classifier(GaussianNaiveBayesClassifier, dataset=dataset)"
      ],
      "execution_count": 25,
      "outputs": [
        {
          "output_type": "stream",
          "name": "stdout",
          "text": [
            "Classification report \n               precision    recall  f1-score   support\n\n           0       1.00      0.96      0.98        51\n           1       0.74      0.84      0.79        57\n           2       0.88      0.89      0.88        55\n           3       0.96      0.82      0.88        56\n           4       0.94      0.90      0.92        51\n           5       0.85      0.90      0.88        51\n           6       1.00      0.87      0.93        55\n           7       0.92      0.98      0.95        60\n           8       0.79      0.76      0.78        50\n           9       0.81      0.89      0.85        54\n\n    accuracy                           0.88       540\n   macro avg       0.89      0.88      0.88       540\nweighted avg       0.89      0.88      0.88       540\n \n\nConfusion matrix \n[[49  0  0  0  2  0  0  0  0  0]\n [ 0 48  6  0  0  1  0  0  1  1]\n [ 0  4 49  0  0  0  0  0  2  0]\n [ 0  1  1 46  0  0  0  0  2  6]\n [ 0  1  0  0 46  2  0  0  2  0]\n [ 0  0  0  0  0 46  0  1  1  3]\n [ 0  5  0  0  0  2 48  0  0  0]\n [ 0  0  0  0  1  0  0 59  0  0]\n [ 0  6  0  0  0  3  0  2 38  1]\n [ 0  0  0  2  0  0  0  2  2 48]]\n\n"
          ]
        }
      ]
    }
  ]
}